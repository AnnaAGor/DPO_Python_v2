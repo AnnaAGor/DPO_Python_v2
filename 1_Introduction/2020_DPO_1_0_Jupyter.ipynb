{
 "cells": [
  {
   "cell_type": "markdown",
   "metadata": {},
   "source": [
    "Центр непрерывного образования\n",
    "\n",
    "# Программа «Python для автоматизации и анализа данных»\n",
    "\n",
    "Неделя 1 - 1\n",
    "\n",
    "*Алла Тамбовцева, НИУ ВШЭ*"
   ]
  },
  {
   "cell_type": "markdown",
   "metadata": {},
   "source": [
    "## Знакомство с Jupyter Notebook\n",
    "\n",
    "Jupyter Notebook чем-то похож на текстовый редактор: есть меню, панель инструментов и поле для работы, которое состоит из ячеек (*cells*). Ячейки могут содержать как код, так и текст (неразмеченный и размеченный). Комментарии в ячейках с кодом должны начинаться со знака `#`.\n",
    "\n",
    "Пример ячейки с кодом:"
   ]
  },
  {
   "cell_type": "code",
   "execution_count": 1,
   "metadata": {},
   "outputs": [
    {
     "name": "stdout",
     "output_type": "stream",
     "text": [
      "3 0.2\n"
     ]
    }
   ],
   "source": [
    "a = 3 # создаем переменную a и присваиваем ей значение 3\n",
    "b = 0.2 \n",
    "\n",
    "# комментарий 1\n",
    "# комментарий 2\n",
    "\n",
    "print(a, b) # выводим на экран значения переменных A и B"
   ]
  },
  {
   "cell_type": "markdown",
   "metadata": {},
   "source": [
    "По умолчанию тип ячейки *Code*, это можно увидеть на панели под меню. Чтобы изменить тип ячейки, нужно нажать на стрелочку вниз и выбрать нужный вариант. Всего вариантов четыре: *Code*, *Markdown*, *RawNBConvert* и *Heading*.\n",
    "\n",
    "* *Code*: ячейка с кодом Python;\n",
    "* *Markdown*: ячейка с размеченным текстом, язык разметки Markdown;\n",
    "* *RawNBConvert*: неразмеченный «сырой» текст, без курсива/полужирного шрифта;\n",
    "* *Heading*: устарел, раньше использовался для заголовков, сейчас их нужно создавать в режиме *Markdown*."
   ]
  },
  {
   "cell_type": "markdown",
   "metadata": {},
   "source": [
    "Примеры ячеек с размеченным текстом (язык разметки Markdown, почитать про него можно [здесь](https://jupyter-notebook.readthedocs.io/en/latest/examples/Notebook/Working%20With%20Markdown%20Cells.html) и [здесь](http://nestacms.com/docs/creating-content/markdown-cheat-sheet)) — см. ниже."
   ]
  },
  {
   "cell_type": "markdown",
   "metadata": {},
   "source": [
    "### Что можно делать с помощью Markdown?\n",
    "\n",
    "Выделять заголовки разных уровней.\n",
    "\n",
    "На входе:\n",
    "\n",
    "    # Заголовок 1\n",
    "    ## Заголовок 2\n",
    "    ### Заголовок 3\n",
    "    \n",
    "На выходе:"
   ]
  },
  {
   "cell_type": "markdown",
   "metadata": {},
   "source": [
    "# Заголовок 1\n",
    "## Заголовок 2\n",
    "### Заголовок 3"
   ]
  },
  {
   "cell_type": "markdown",
   "metadata": {},
   "source": [
    "Выделять части текста с помощью *курсива* или **полужирного начертания**. Или даже <s>зачеркивать</s>. Вот так этот текст выглядит в размеченном виде:\n",
    "\n",
    "       Выделять части текста с помощью *курсива* или **полужирного начертания**. Или даже <s>зачеркивать</s>."
   ]
  },
  {
   "cell_type": "markdown",
   "metadata": {},
   "source": [
    "Добавлять списки разного вида. \n",
    "\n",
    "**Ненумерованный список.** \n",
    "\n",
    "На входе:\n",
    "\n",
    "    * пункт 1\n",
    "    * пункт 2\n",
    "    * пункт 3\n",
    "\n",
    "На выходе:\n",
    "\n",
    "* пункт 1\n",
    "* пункт 2\n",
    "* пункт 3"
   ]
  },
  {
   "cell_type": "markdown",
   "metadata": {},
   "source": [
    "**Нумерованный список:**\n",
    "\n",
    "На входе:\n",
    "\n",
    "    1. Во-первых,...\n",
    "    2. Во-вторых,...\n",
    "    3. В-третьих,...\n",
    "    \n",
    "На выходе: \n",
    "\n",
    "1. Во-первых,...\n",
    "2. Во-вторых,...\n",
    "3. В-третьих,...\n"
   ]
  },
  {
   "cell_type": "markdown",
   "metadata": {},
   "source": [
    "Для тех, кто знаком с LaTeX: можно красиво оформлять формулы, используя синтаксис, принятый в LaTeX (наличие установленного на компьютере LaTeX не требуется, текст компилируется в самом Jupyter Notebook):\n",
    "\n",
    "$$(x+y)^2 = x^2 + 2xy + y^2$$\n",
    "\n",
    "$$\\Delta = I_{2018} - I_{2017}$$\n",
    "\n",
    "$$P(A|B) = \\frac{P(A \\cap B)}{P(B)}$$\n",
    "\n",
    "$$\\sin(\\alpha)^2 + cos(\\alpha)^2 = 1$$\n",
    "\n",
    "Формулы были получены таким образом:\n",
    "\n",
    "    $$(x+y)^2 = x^2 + 2xy + y^2$$\n",
    "\n",
    "    $$\\Delta = I_{2018} - I_{2017}$$\n",
    "\n",
    "    $$P(A|B) = \\frac{P(A \\cap B)}{P(B)}$$\n",
    "\n",
    "    $$\\sin(\\alpha)^2 + cos(\\alpha)^2 = 1$$"
   ]
  },
  {
   "cell_type": "markdown",
   "metadata": {},
   "source": [
    "Еще можно добавлять **ссылки**. Либо текст ссылки и саму ссылку: текст `[Jupyter](http://jupyter.org)` даст ссылку [Jupyter](http://jupyter.org). Либо саму ссылку как есть: текст `<http://jupyter.org/>` вернет ссылку <http://jupyter.org/>."
   ]
  },
  {
   "cell_type": "markdown",
   "metadata": {},
   "source": [
    "И, конечно, можно добавлять картинки!"
   ]
  },
  {
   "cell_type": "markdown",
   "metadata": {},
   "source": [
    "Например, так:\n",
    "\n",
    "`![title](https://encrypted-tbn0.gstatic.com/images?q=tbn%3AANd9GcReyae6v_NjByqshfjUhNtMgE-7c_zeYPt81IWrZ4dOqH5pYDvw) `"
   ]
  },
  {
   "cell_type": "markdown",
   "metadata": {},
   "source": [
    "![title](data:image/jpeg;base64,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) "
   ]
  },
  {
   "cell_type": "markdown",
   "metadata": {},
   "source": [
    "Или так (синтаксис, как в html, кто знаком):\n",
    "\n",
    "`<img src =\"https://encrypted-tbn0.gstatic.com/images?q=tbn%3AANd9GcReyae6v_NjByqshfjUhNtMgE-7c_zeYPt81IWrZ4dOqH5pYDvw\" alt =\"Test picture\">`\n",
    "    \n",
    "<img src =\"data:image/jpeg;base64,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\" alt =\"Test picture\">"
   ]
  },
  {
   "cell_type": "markdown",
   "metadata": {},
   "source": [
    "*Примечание:* часть с *alt* нужна для того, чтобы в случае, если картинки с таким названием нет, выводился какой-то альтернативный текст вместо нее."
   ]
  },
  {
   "cell_type": "markdown",
   "metadata": {},
   "source": [
    "### Горячие клавиши"
   ]
  },
  {
   "cell_type": "markdown",
   "metadata": {},
   "source": [
    "В Jupyter Notebook есть свои горячие клавиши, которые позволяют добавлять или удалять ячейки, менять их тип и так далее. Чтобы работать в режиме горячих клавиш, нужно выйти из редактирования ячейки (нажать на *Esc*), а потом набрать нужную комбинацию клавиш. Чтобы вернуться в режим редактирования ячейки, можно кликнуть на нее два раза или, выбрав ее, нажать *Enter*. Все полезные комбинации клавиш можно найти в меню (*Help - Keyboard Shortcuts*) или нажав *Esc*, а потом *H* или *P*."
   ]
  },
  {
   "cell_type": "markdown",
   "metadata": {},
   "source": [
    "### Если потерялись"
   ]
  },
  {
   "cell_type": "markdown",
   "metadata": {},
   "source": [
    "И наконец: как найти, куда Jupyter сохраняет ноутбуки — файлы с расширением `.ipynb`. Можно импортировать модуль *os* и узнать текущую рабочую папку (*current working directory*) — в ней будут лежать ноутбуки."
   ]
  },
  {
   "cell_type": "code",
   "execution_count": null,
   "metadata": {},
   "outputs": [],
   "source": [
    "import os\n",
    "os.getcwd()"
   ]
  },
  {
   "cell_type": "markdown",
   "metadata": {},
   "source": [
    "С помощью `import` мы будем импортировать любые модули или библиотеки Python, а также отдельные функции при необходимости. Кроме того, можем импортировать текст философии Python, которая имеет название \"The Zen of Python\":"
   ]
  },
  {
   "cell_type": "code",
   "execution_count": 5,
   "metadata": {},
   "outputs": [
    {
     "name": "stdout",
     "output_type": "stream",
     "text": [
      "The Zen of Python, by Tim Peters\n",
      "\n",
      "Beautiful is better than ugly.\n",
      "Explicit is better than implicit.\n",
      "Simple is better than complex.\n",
      "Complex is better than complicated.\n",
      "Flat is better than nested.\n",
      "Sparse is better than dense.\n",
      "Readability counts.\n",
      "Special cases aren't special enough to break the rules.\n",
      "Although practicality beats purity.\n",
      "Errors should never pass silently.\n",
      "Unless explicitly silenced.\n",
      "In the face of ambiguity, refuse the temptation to guess.\n",
      "There should be one-- and preferably only one --obvious way to do it.\n",
      "Although that way may not be obvious at first unless you're Dutch.\n",
      "Now is better than never.\n",
      "Although never is often better than *right* now.\n",
      "If the implementation is hard to explain, it's a bad idea.\n",
      "If the implementation is easy to explain, it may be a good idea.\n",
      "Namespaces are one honking great idea -- let's do more of those!\n"
     ]
    }
   ],
   "source": [
    "import this"
   ]
  }
 ],
 "metadata": {
  "kernelspec": {
   "display_name": "Python 3",
   "language": "python",
   "name": "python3"
  },
  "language_info": {
   "codemirror_mode": {
    "name": "ipython",
    "version": 3
   },
   "file_extension": ".py",
   "mimetype": "text/x-python",
   "name": "python",
   "nbconvert_exporter": "python",
   "pygments_lexer": "ipython3",
   "version": "3.6.5"
  }
 },
 "nbformat": 4,
 "nbformat_minor": 2
}
